{
  "nbformat": 4,
  "nbformat_minor": 0,
  "metadata": {
    "colab": {
      "provenance": [],
      "authorship_tag": "ABX9TyN59kiJEYLoFXeHQuU4MgL+",
      "include_colab_link": true
    },
    "kernelspec": {
      "name": "python3",
      "display_name": "Python 3"
    },
    "language_info": {
      "name": "python"
    }
  },
  "cells": [
    {
      "cell_type": "markdown",
      "metadata": {
        "id": "view-in-github",
        "colab_type": "text"
      },
      "source": [
        "<a href=\"https://colab.research.google.com/github/AlexSan1910/Calculadora_POO_Python/blob/main/Calculadora_POO_Python.ipynb\" target=\"_parent\"><img src=\"https://colab.research.google.com/assets/colab-badge.svg\" alt=\"Open In Colab\"/></a>"
      ]
    },
    {
      "cell_type": "code",
      "execution_count": null,
      "metadata": {
        "colab": {
          "base_uri": "https://localhost:8080/"
        },
        "id": "pFh5zk5s6EaZ",
        "outputId": "d6fa746b-017d-45d4-8990-b714456fc993"
      },
      "outputs": [
        {
          "output_type": "stream",
          "name": "stdout",
          "text": [
            "Versão do python:  3.10.12\n"
          ]
        }
      ],
      "source": [
        "from platform import python_version\n",
        "print(\"Versão do python: \", python_version())"
      ]
    },
    {
      "cell_type": "markdown",
      "source": [
        "# **Criando calculadora em Python**\n"
      ],
      "metadata": {
        "id": "0Zpu6N7y6ZTD"
      }
    },
    {
      "cell_type": "code",
      "source": [
        "# Criando interface de menu para que o usuario visualize e acesse a opção em que ele deseja\n",
        "\n",
        "menu_inicial = int(input(\"\"\"\n",
        "\n",
        "Selecione o número da operação desejada:\n",
        "\n",
        "1 - Soma\n",
        "2 - Subtração\n",
        "3 - Multiplicação\n",
        "4 - Divisão\n",
        "\n",
        "Digite sua opção (1/2/3/4): \"\"\"\n",
        "))"
      ],
      "metadata": {
        "colab": {
          "base_uri": "https://localhost:8080/"
        },
        "id": "EMS3Cwe46dbe",
        "outputId": "5f048c4c-2300-4f12-84cd-18b5de8bcda1"
      },
      "execution_count": null,
      "outputs": [
        {
          "name": "stdout",
          "output_type": "stream",
          "text": [
            "\n",
            "\n",
            "Selecione o número da operação desejada:\n",
            "\n",
            "1 - Soma\n",
            "2 - Subtração\n",
            "3 - Multiplicação\n",
            "4 - Divisão\n",
            "\n",
            "Digite sua opção (1/2/3/4): 2\n"
          ]
        }
      ]
    },
    {
      "cell_type": "code",
      "source": [
        "# Função SOMA\n",
        "def soma(valor1, valor2):\n",
        "  resultado = valor1 + valor2\n",
        "  return print(\"%r + %r = %r\" %(valor1, valor2, resultado))\n"
      ],
      "metadata": {
        "id": "7SUzG-E37qYx"
      },
      "execution_count": null,
      "outputs": []
    },
    {
      "cell_type": "code",
      "source": [
        "# Função Subtração\n",
        "def subtracao(valor1, valor2):\n",
        "  resultado = valor1 - valor2\n",
        "  return print(\"%r - %r = %r\" %(valor1, valor2, resultado))"
      ],
      "metadata": {
        "id": "v9AFYZtA8ONL"
      },
      "execution_count": null,
      "outputs": []
    },
    {
      "cell_type": "code",
      "source": [
        "# Função Multiplicação\n",
        "def multiplicacao(valor1, valor2):\n",
        "  resultado = valor1 * valor2\n",
        "  return print(\"%r * %r = %r\" %(valor1, valor2, resultado))"
      ],
      "metadata": {
        "id": "Fwt-8zgA8QR8"
      },
      "execution_count": null,
      "outputs": []
    },
    {
      "cell_type": "code",
      "source": [
        "# Função Divisão\n",
        "def divisao(valor1, valor2):\n",
        "  resultado = valor1 / valor2\n",
        "  return print(\"%r / %r = %r\" %(valor1, valor2, resultado))"
      ],
      "metadata": {
        "id": "-sBT2NLQ8R-4"
      },
      "execution_count": null,
      "outputs": []
    },
    {
      "cell_type": "code",
      "source": [
        "# Criando condições para redirecionar para a opção deseja pelo usuario.\n",
        "\n",
        "if menu_inicial == 1:\n",
        "  print(\"----------SOMA----------\")\n",
        "  valor1 = int(input(\"Digite o primeio valor: \"))\n",
        "  valor2 = int(input(\"Digite o segundo valor: \"))\n",
        "  soma(valor1, valor2)\n",
        "elif menu_inicial == 2:\n",
        "  print(\"----------SUBTRAÇÃO----------\")\n",
        "  valor1 = int(input(\"Digite o primeio valor: \"))\n",
        "  valor2 = int(input(\"Digite o segundo valor: \"))\n",
        "  subtracao(valor1, valor2)\n",
        "elif menu_inicial == 3:\n",
        "  print(\"----------MULTIPLICAÇÃO----------\")\n",
        "  valor1 = int(input(\"Digite o primeio valor: \"))\n",
        "  valor2 = int(input(\"Digite o segundo valor: \"))\n",
        "  multiplicacao(valor1, valor2)\n",
        "elif menu_inicial == 4:\n",
        "  print(\"----------DIVISÃO----------\")\n",
        "  valor1 = int(input(\"Digite o primeio valor: \"))\n",
        "  valor2 = int(input(\"Digite o segundo valor: \"))\n",
        "  divisao(valor1, valor2)\n",
        "else:\n",
        "  print(\"Opção Digitada inválida\")"
      ],
      "metadata": {
        "colab": {
          "base_uri": "https://localhost:8080/"
        },
        "id": "KBForHS67X5T",
        "outputId": "faf36874-b0cb-4075-d099-79c839d40804"
      },
      "execution_count": null,
      "outputs": [
        {
          "output_type": "stream",
          "name": "stdout",
          "text": [
            "Digite o primeio valor: 12\n",
            "Digite o segundo valor: 11\n",
            "12 - 11 = 1\n"
          ]
        }
      ]
    },
    {
      "cell_type": "code",
      "source": [],
      "metadata": {
        "id": "nrROhZ--bli2"
      },
      "execution_count": null,
      "outputs": []
    }
  ]
}